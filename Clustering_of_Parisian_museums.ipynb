{
    "nbformat_minor": 1, 
    "cells": [
        {
            "execution_count": 1, 
            "cell_type": "code", 
            "metadata": {}, 
            "outputs": [
                {
                    "output_type": "stream", 
                    "name": "stdout", 
                    "text": "Libraries imported.\n"
                }
            ], 
            "source": "import numpy as np # library to handle data in a vectorized manner\n\nimport pandas as pd # library for data analsysis\npd.set_option('display.max_columns', None)\npd.set_option('display.max_rows', None)\n\nimport requests # library to handle requests\nfrom pandas.io.json import json_normalize # tranform JSON file into a pandas dataframe\n\n\nfrom bs4 import BeautifulSoup\n\n# For clustering\nfrom sklearn.cluster import KMeans\n\n#!conda install -c conda-forge folium=0.5.0 --yes # uncomment this line if you haven't completed the Foursquare API lab\n#import folium # map rendering library\n\n# Matplotlib and associated plotting modules\n\n#import matplotlib.cm as cm\n#import matplotlib.colors as colors\n\nprint('Libraries imported.')"
        }, 
        {
            "source": "## Data acquisition from Wikipedia\n\nThis part follows a list of Parisian museums on Wikipedia and alternates between the French and English versions in order to obtain the geographical coordinates for all museums.", 
            "cell_type": "markdown", 
            "metadata": {}
        }, 
        {
            "execution_count": 2, 
            "cell_type": "code", 
            "metadata": {}, 
            "outputs": [
                {
                    "output_type": "stream", 
                    "name": "stdout", 
                    "text": "# packages in environment at /opt/conda/envs/DSX-Python35:\r\n#\r\n# Name                    Version                   Build  Channel\r\nalabaster                 0.7.10           py35h6fb19ab_0  \r\nanaconda-client           1.6.5            py35hd900ed1_0  \r\nanaconda-project          0.8.0            py35hb597f32_0  \r\nasn1crypto                0.22.0           py35h0d675fe_1  \r\nastroid                   1.5.3            py35h1d0c565_0  \r\nastropy                   2.0.2            py35h2d2a8a6_4  \r\nastunparse                1.5.0                     <pip>\r\nbabel                     2.5.0            py35ha5fc564_0  \r\nbackports                 1.0              py35hd471ac7_1  \r\nbackports.shutil_get_terminal_size 1.0.0            py35h40844db_2  \r\nbackports.weakref         1.0rc1                   py35_0  \r\nbeautifulsoup4            4.6.0            py35h442a8c9_1  \r\nbiopython                 1.69                np113py35_0  \r\nbitarray                  0.8.1            py35h14c3975_1  \r\nbkcharts                  0.2              py35he4f7e30_0  \r\nblas                      1.0                         mkl  \r\nblaze                     0.11.3           py35ha2c9137_0  \r\nbleach                    2.0.0            py35h055c768_0  \r\nbokeh                     0.12.10          py35hfdb0b1d_0  \r\nboto                      2.48.0           py35h2cfd601_1  \r\nboto3                     1.4.7            py35h2161c00_0  \r\nbotocore                  1.7.20           py35h627d9b9_0  \r\nbottleneck                1.2.1            py35he1b16f1_0  \r\nbrunel                    2.3                       <pip>\r\nbzip2                     1.0.6                h9a117a8_4  \r\nca-certificates           2019.1.23                     0  \r\ncairo                     1.14.12              h77bcde2_0  \r\ncertifi                   2018.8.24                py35_1  \r\ncertifi                   2019.3.9                  <pip>\r\ncffi                      1.10.0           py35h796c292_1  \r\nchardet                   3.0.4            py35hb6e9ddf_1  \r\nclick                     6.7              py35h353a69f_0  \r\ncloudpickle               0.4.0            py35h10376d1_0  \r\nclyent                    1.2.2            py35h491ffcb_1  \r\ncolorama                  0.3.9            py35h81e2b6c_0  \r\ncolour                    0.1.5            py35h628fc48_0  \r\ncontextlib2               0.5.5            py35h6690dba_0  \r\ncplex                     12.8.0.1                  <pip>\r\ncryptography              2.2.2            py35h14c3975_0  \r\ncurl                      7.55.1               h78862de_4  \r\ncx_oracle                 6.4.1            py35h14c3975_0  \r\ncycler                    0.10.0           py35hc4d5149_0  \r\ncython                    0.26.1           py35h636ebcb_0  \r\ncytoolz                   0.8.2            py35ha53021f_0  \r\ndask                      0.15.4           py35h401027e_0  \r\ndask-core                 0.15.4           py35hb07b8c3_0  \r\ndatashape                 0.5.4            py35h5b068ae_0  \r\ndbus                      1.10.22              h3b5a359_0  \r\ndebtcollector             1.17.0                    <pip>\r\ndecorator                 4.1.2            py35h3a268aa_0  \r\ndill                      0.2.7.1                   <pip>\r\ndistributed               1.19.1           py35h399b246_0  \r\ndocloud                   1.0.315                   <pip>\r\ndocplex                   2.8.125                   <pip>\r\ndocutils                  0.14             py35hd11081d_0  \r\nentrypoints               0.2.3            py35h48174a2_2  \r\nenum34                    1.1.6                     <pip>\r\net_xmlfile                1.0.1            py35hde8d43e_0  \r\nexpat                     2.2.5                he0dffb1_0  \r\nfastcache                 1.0.2            py35h14c3975_2  \r\nfilelock                  2.0.12           py35h7855d60_0  \r\nflask                     0.12.2           py35h679e90e_0  \r\nflask-cors                3.0.3            py35h9b2065d_0  \r\nfontconfig                2.12.4               h88586e7_1  \r\nfreetds                   1.00.97              hc365091_0  \r\nfreetype                  2.8                  hab7d2ae_1  \r\nfuture                    0.16.0                   py35_1  \r\ngeojson                   1.3.5                     <pip>\r\ngeopy                     1.11.0                    <pip>\r\nget_terminal_size         1.0.0                haa9412d_0  \r\ngevent                    1.2.2            py35he064abf_0  \r\nglib                      2.53.6               h5d9569c_2  \r\nglob2                     0.5              py35h98a1f2a_1  \r\ngmp                       6.1.2                h6c8ec71_1  \r\ngmpy2                     2.0.8            py35hd0a1c9a_2  \r\ngraphite2                 1.3.10               hf63cedd_1  \r\ngraphviz                  2.40.1               h25d223c_0  \r\ngreenlet                  0.4.12           py35h2547b41_0  \r\ngst-plugins-base          1.12.2               he3457e5_0  \r\ngstreamer                 1.12.2               h4f93127_0  \r\nh5py                      2.7.0            py35h41d5d6e_1  \r\nharfbuzz                  1.7.4                hc5b324e_0  \r\nhdf5                      1.10.1               h9caa474_1  \r\nheapdict                  1.0.0                    py35_2  \r\nhtml5lib                  0.999999999      py35h0543385_0  \r\nibm-bias-detection        1.0.8                     <pip>\r\nibm-cos-sdk               2.0.1                     <pip>\r\nibm-cos-sdk-core          2.0.1                     <pip>\r\nibm-cos-sdk-s3transfer    2.0.1                     <pip>\r\nibm-db                    2.0.7                     <pip>\r\nibm-db-sa                 0.3.3                     <pip>\r\nibmdbpy                   0.1.5                     <pip>\r\nicu                       58.2                 h9c2bf20_1  \r\nidna                      2.6              py35h8605a33_1  \r\nimageio                   2.2.0            py35hd0a6de2_0  \r\nimagesize                 0.7.1            py35hf008fae_0  \r\nintel-openmp              2018.0.0             hc7b2577_8  \r\nipykernel                 4.8.2                    py35_0  \r\nipython                   6.1.0            py35h1b71439_1  \r\nipython_genutils          0.2.0            py35hc9e07d0_0  \r\nipywidgets                7.1.1                    py35_0  \r\niso8601                   0.1.12                   py35_0  \r\nisort                     4.2.15           py35h44a00d2_0  \r\nitsdangerous              0.24             py35h7c46880_1  \r\nJayDeBeApi                0.2.0                     <pip>\r\njbig                      2.1                  hdba287a_0  \r\njdcal                     1.3              py35hf1f7175_0  \r\njedi                      0.10.2           py35hc33c70f_0  \r\njinja2                    2.9.6            py35h90b8645_1  \r\njmespath                  0.9.3            py35h8a35363_0  \r\njpeg                      9b                   h024ee3a_2  \r\nJPype1                    0.6.2                     <pip>\r\nJPype1-py3                0.5.5.2                   <pip>\r\njsonschema                2.6.0            py35h4395190_0  \r\njupyter-pip               0.3.1                     <pip>\r\njupyter_client            5.1.0            py35h2bff583_0  \r\njupyter_core              4.3.0            py35he2f7985_0  \r\nKeras                     2.1.4                     <pip>\r\nkeystoneauth1             3.2.0                     <pip>\r\nkrb5                      1.16                 h3f6afd0_6  \r\nLasagne                   0.2.dev1                  <pip>\r\nlazy                      1.3                       <pip>\r\nlazy-object-proxy         1.3.1            py35h4c720c6_0  \r\nlibedit                   3.1.20170329         h6b74fdf_2  \r\nlibffi                    3.2.1                hd88cf55_4  \r\nlibgcc-ng                 8.2.0                hdf63c60_1  \r\nlibgfortran-ng            7.2.0                h9f7466a_2  \r\nlibgpuarray               0.6.9                         0  \r\nlibiconv                  1.15                 h63c8f33_5  \r\nlibpng                    1.6.37               hbc83047_0  \r\nlibpq                     10.3                 h1ad7b7a_0  \r\nlibprotobuf               3.4.1                h5b8497f_0  \r\nlibsodium                 1.0.15               hf101ebd_0  \r\nlibssh2                   1.8.0                h9cfc8f7_4  \r\nlibstdcxx-ng              8.2.0                hdf63c60_1  \r\nlibtiff                   4.0.10               h2733197_2  \r\nlibtool                   2.4.6                h544aabb_3  \r\nlibxcb                    1.12                 hcd93eb1_4  \r\nlibxml2                   2.9.4                h6b072ca_5  \r\nlibxslt                   1.1.29               hcf9102b_5  \r\nllvmlite                  0.20.0                   py35_0  \r\nlocket                    0.2.0            py35h170bc82_1  \r\nlomond                    0.1.13                    <pip>\r\nlxml                      4.1.0            py35ha401a81_0  \r\nlzo                       2.10                 h49e0be7_2  \r\nmako                      1.0.7            py35h69899ea_0  \r\nmarkdown                  2.6.9                    py35_0  \r\nmarkupsafe                1.0              py35h4f4fcf6_1  \r\nmatplotlib                2.1.0            py35h2cbf27e_0  \r\nmaven-artifact            0.2.0                     <pip>\r\nmccabe                    0.6.1            py35hd8c1f23_1  \r\nmistune                   0.8.1            py35h9251d8c_0  \r\nmkl                       2018.0.0             hb491cac_4  \r\nmkl-service               1.1.2            py35h0fc7090_4  \r\nmonotonic                 1.3                       <pip>\r\nmpc                       1.0.3                hec55b23_5  \r\nmpfr                      3.1.5                h11a74b3_2  \r\nmpld3                     0.3                       <pip>\r\nmpmath                    0.19             py35h5a16178_2  \r\nmsgpack-python            0.4.8            py35h783f4c8_0  \r\nmultipledispatch          0.4.9            py35h2ff591a_0  \r\nnbconvert                 5.3.1            py35hc5194e3_0  \r\nnbformat                  4.4.0            py35h12e6e07_0  \r\nncurses                   6.1                  hf484d3e_0  \r\nnetaddr                   0.7.19                    <pip>\r\nnetifaces                 0.10.6                    <pip>\r\nnetworkx                  2.0              py35hc690e10_0  \r\nnltk                      3.2.4            py35h7ba7875_0  \r\nnose                      1.3.7            py35hdc64897_2  \r\nnotebook                  5.2.1            py35h35fdc29_0  \r\nnumba                     0.35.0             np113py35_10  \r\nnumexpr                   2.6.2            py35hf56bd38_2  \r\nnumpy                     1.13.3           py35h3dfced4_2  \r\nnumpydoc                  0.7.0            py35he089a57_0  \r\nodo                       0.5.1            py35h102315f_0  \r\nolefile                   0.44             py35h2c86149_0  \r\nopenpyxl                  2.4.8            py35hd6c89d3_1  \r\nopenssl                   1.0.2s               h7b6447c_0  \r\noslo.config               4.12.0                    <pip>\r\noslo.i18n                 3.17.0                    <pip>\r\noslo.serialization        2.20.0                    <pip>\r\noslo.utils                3.29.0                    <pip>\r\npackaging                 16.8             py35h2260b46_1  \r\npandas                    0.21.0           py35hee8c687_1  \r\npandoc                    1.19.2.1             hea2e7c5_1  \r\npandocfilters             1.4.2            py35h1565a15_1  \r\npango                     1.41.0               hd475d92_0  \r\npartd                     0.3.8            py35h68187f2_0  \r\npatchelf                  0.9                  hf79760b_2  \r\npath.py                   10.3.1           py35hb82cfee_0  \r\npathlib2                  2.3.0            py35hd637de4_0  \r\npatsy                     0.4.1            py35h51b66d5_0  \r\npbr                       3.1.1            py35hdfb5056_0  \r\npcre                      8.41                 hc27e229_1  \r\npep8                      1.7.0            py35hee76f29_0  \r\npexpect                   4.2.1            py35h8b56cb4_0  \r\npickleshare               0.7.4            py35hd57304d_0  \r\npillow                    4.2.1            py35h03abc04_0  \r\npip                       10.0.1                   py35_0  \r\npixiedust                 1.1.17                    <pip>\r\npixman                    0.34.0               hceecf20_3  \r\npkginfo                   1.4.1            py35hb526c55_1  \r\nplotly                    2.0.14                    <pip>\r\nply                       3.10             py35h459f1a0_0  \r\npositional                1.2.1                     <pip>\r\nproject-lib               1.5.2                     <pip>\r\nprompt_toolkit            1.0.15           py35hc09de7a_0  \r\nprotobuf                  3.4.1            py35he6b9134_0  \r\npsutil                    5.4.0            py35ha5baf80_0  \r\npsycopg2                  2.7.4            py35hb7f436b_0  \r\nptyprocess                0.5.2            py35h38ce0a3_0  \r\npy                        1.4.34           py35hd71111f_1  \r\npycodestyle               2.3.1            py35h8d2105a_0  \r\npycosat                   0.6.3            py35h6b6bb97_0  \r\npycparser                 2.18             py35h61b3040_1  \r\npycrypto                  2.6.1            py35h14c3975_7  \r\npycurl                    7.43.0           py35h7a9665c_3  \r\npyflakes                  1.6.0            py35hd1da72e_0  \r\npygments                  2.2.0            py35h0f41973_0  \r\npygpu                     0.6.9                    py35_0  \r\npylint                    1.7.4            py35h319e60b_0  \r\npymssql                   2.1.4            py35h7b6447c_0  \r\npyodbc                    4.0.23           py35hf484d3e_0  \r\npyopenssl                 18.0.0                   py35_0  \r\npyparsing                 2.2.0            py35h041ed72_1  \r\npypyodbc                  1.3.4                     <pip>\r\npyqt                      5.6.0            py35h0e41ada_5  \r\npysocks                   1.6.7            py35h6aefbb0_1  \r\npytables                  3.4.2            py35hfa98db7_2  \r\npytest                    3.2.1            py35hc97c719_1  \r\npython                    3.5.5                hc3d631a_4  \r\npython-dateutil           2.6.1            py35h90d5b31_1  \r\npython-keystoneclient     3.13.0                    <pip>\r\npython-swiftclient        3.4.0                     <pip>\r\npytz                      2018.3                   py35_0  \r\npywavelets                0.5.2            py35h53ec731_0  \r\npyyaml                    3.12             py35h46ef4ae_1  \r\npyzmq                     17.0.0           py35h14c3975_0  \r\nqt                        5.6.2               h974d657_12  \r\nqtawesome                 0.4.4            py35hd68ff89_0  \r\nqtpy                      1.3.1            py35h881af26_0  \r\nreadline                  7.0                  ha6073c6_4  \r\nrequests                  2.18.4           py35hb9e6ad1_1  \r\nrfc3986                   1.1.0                     <pip>\r\nrope                      0.10.5           py35h31d6b7c_0  \r\nruamel_yaml               0.11.14          py35h8e2c16b_2  \r\ns3transfer                0.1.10           py35h0bc0b65_1  \r\nscikit-image              0.13.0           py35h3573165_1  \r\nscikit-learn              0.19.1           py35hbf1f462_0  \r\nscipy                     1.0.0            py35hcbbe4a2_0  \r\nseaborn                   0.8.0            py35h15a2772_0  \r\nsetuptools                36.5.0           py35ha8c1747_0  \r\nsimplegeneric             0.8.1                    py35_2  \r\nsimplejson                3.11.1                   py35_0  \r\nsingledispatch            3.4.0.3          py35h0cd4ec3_0  \r\nsip                       4.18.1           py35h9eaea60_2  \r\nsix                       1.11.0           py35h423b573_1  \r\nsnowballstemmer           1.2.1            py35h5435977_0  \r\nsortedcollections         0.5.3            py35hb2f60ff_0  \r\nsortedcontainers          1.5.7            py35h683703c_0  \r\nsphinx                    1.6.3            py35hea25a1c_0  \r\nsphinxcontrib             1.0              py35hcb7efd2_1  \r\nsphinxcontrib-websupport  1.0.1            py35h3537809_1  \r\nsqlalchemy                1.1.13           py35h4911131_0  \r\nsqlite                    3.24.0               h84994c4_0  \r\nstatsmodels               0.8.0            py35haa9d50b_0  \r\nstevedore                 1.26.0                    <pip>\r\nstreamsx                  1.9.6                     <pip>\r\nsympy                     1.1.1            py35h919b29a_0  \r\ntabulate                  0.8.2                    py35_0  \r\ntblib                     1.3.2            py35hf1eb0b4_0  \r\ntensorflow-base           1.3.0            py35h79a3156_1  \r\nterminado                 0.6              py35hce234ed_0  \r\ntestpath                  0.3.1            py35had42eaf_0  \r\ntheano                    0.9.0                    py35_0  \r\ntk                        8.6.7                hc745277_3  \r\ntoolz                     0.8.2            py35h90f1797_0  \r\ntornado                   4.5.2            py35hf879e1d_0  \r\ntqdm                      4.19.5                   py35_0  \r\ntraitlets                 4.3.2            py35ha522a97_0  \r\ntyping                    3.6.2            py35hcadae7e_0  \r\nunicodecsv                0.14.1           py35h4805c0c_0  \r\nunixodbc                  2.3.7                h14c3975_0  \r\nurllib3                   1.22             py35h2ab6e29_0  \r\nwatson-machine-learning-client 1.0.365                   <pip>\r\nwcwidth                   0.1.7            py35hcd08066_0  \r\nwebencodings              0.5.1            py35hb6cf162_1  \r\nwerkzeug                  0.12.2           py35hbfc1ea6_0  \r\nwheel                     0.29.0           py35h601ca99_1  \r\nwidgetsnbextension        3.1.0                    py35_0  \r\nwrapt                     1.10.11          py35hfdafd39_0  \r\nxgboost                   0.6a2                     <pip>\r\nxlrd                      1.1.0            py35h45a0a2a_1  \r\nxlsxwriter                1.0.2            py35h8ee9321_0  \r\nxlwt                      1.3.0            py35h884a0cf_0  \r\nxz                        5.2.4                h14c3975_4  \r\nyaml                      0.1.7                had09818_2  \r\nzeromq                    4.2.3                h439df22_3  \r\nzict                      0.1.3            py35h29275ca_0  \r\nzlib                      1.2.11               ha838bed_2  \r\nzstd                      1.3.7                h0b5b093_0  \r\n"
                }
            ], 
            "source": "!conda list"
        }, 
        {
            "execution_count": 3, 
            "cell_type": "code", 
            "metadata": {}, 
            "outputs": [], 
            "source": "def get_soup(url):\n    r  = requests.get(url)\n    data = r.text\n    soup = BeautifulSoup(data, 'html.parser')\n    return soup\n\ndef find_french_page(soup):\n    return soup.body.find_all(\"li\", class_=\"interlanguage-link interwiki-fr\")[0].a.get(\"href\")\n\ndef get_latlong(coordinates):\n    lat = float(coordinates[0][:-1]) + float(coordinates[1][:-1])/60 + float(coordinates[2][:-1])/3600\n    long = float(coordinates[4][:-1]) + float(coordinates[5][:-1])/60 + float(coordinates[6][:-1])/3600\n    return lat, long"
        }, 
        {
            "execution_count": 4, 
            "cell_type": "code", 
            "metadata": {}, 
            "outputs": [], 
            "source": "soup = get_soup(\"https://en.wikipedia.org/wiki/List_of_museums_in_Paris\")\ndf = pd.DataFrame(columns=['Museum name', 'Latitude', 'Longitude'])"
        }, 
        {
            "execution_count": null, 
            "cell_type": "code", 
            "metadata": {}, 
            "outputs": [], 
            "source": ""
        }, 
        {
            "execution_count": 5, 
            "cell_type": "code", 
            "metadata": {}, 
            "outputs": [
                {
                    "output_type": "stream", 
                    "name": "stdout", 
                    "text": "Arab World Institute https://fr.wikipedia.org/wiki/Institut_du_monde_arabe\nArchaeological Crypt of the Paris Notre-Dame https://fr.wikipedia.org/wiki/Cath%C3%A9drale_Notre-Dame_de_Paris\nArt Ludique https://fr.wikipedia.org/wiki/Art_ludique_-_Le_Mus%C3%A9e\nBiblioth\u00e8que-Mus\u00e9e de l'Op\u00e9ra National de Paris https://fr.wikipedia.org/wiki/Biblioth%C3%A8que-mus%C3%A9e_de_l%27Op%C3%A9ra\nBiblioth\u00e8que Polonaise de Paris https://fr.wikipedia.org/wiki/Biblioth%C3%A8que_polonaise_de_Paris\nCabinet des M\u00e9dailles https://fr.wikipedia.org/wiki/D%C3%A9partement_des_Monnaies,_m%C3%A9dailles_et_antiques_de_la_Biblioth%C3%A8que_nationale_de_France\nCatacombes de Paris https://fr.wikipedia.org/wiki/Catacombes_de_Paris\nCit\u00e9 de l'Architecture et du Patrimoine https://fr.wikipedia.org/wiki/Cit%C3%A9_de_l%27architecture_et_du_patrimoine\nCit\u00e9 des Sciences et de l'Industrie https://fr.wikipedia.org/wiki/Cit%C3%A9_des_sciences_et_de_l%27industrie\nCit\u00e9 nationale de l'histoire de l'immigration https://fr.wikipedia.org/wiki/Mus%C3%A9e_de_l%27Histoire_de_l%27immigration\nEspace Dal\u00ed https://fr.wikipedia.org/wiki/Dal%C3%AD_Paris\nFondation Cartier pour l'Art Contemporain https://fr.wikipedia.org/wiki/Fondation_Cartier_pour_l%27art_contemporain\nFondation Custodia https://fr.wikipedia.org/wiki/Fondation_Custodia\nFondation Jean Dubuffet https://fr.wikipedia.org/wiki/Fondation_Jean_Dubuffet\nFondation Louis Vuitton https://fr.wikipedia.org/wiki/Fondation_d%27entreprise_Louis_Vuitton\nGalerie des Gobelins https://fr.wikipedia.org/wiki/Manufacture_des_Gobelins\nGalerie nationale du Jeu de Paume https://fr.wikipedia.org/wiki/Jeu_de_paume_(centre_d%27art)\nGaleries nationales du Grand Palais https://fr.wikipedia.org/wiki/Galeries_nationales_du_Grand_Palais\nInstitut Tessin https://fr.wikipedia.org/wiki/Institut_su%C3%A9dois_Paris\nLa Maison Rouge https://fr.wikipedia.org/wiki/La_Maison_rouge,_fondation_Antoine-de-Galbert\nMaison d'Auguste Comte https://fr.wikipedia.org/wiki/Maison_d%27Auguste_Comte\nMaison de Balzac https://fr.wikipedia.org/wiki/Maison_de_Balzac\nMaison europ\u00e9enne de la photographie https://fr.wikipedia.org/wiki/Maison_europ%C3%A9enne_de_la_photographie\nMaison de Victor Hugo https://fr.wikipedia.org/wiki/Maison_de_Victor_Hugo\nMaison La Roche https://fr.wikipedia.org/wiki/Maison_La_Roche\nM\u00e9morial de la Shoah https://fr.wikipedia.org/wiki/M%C3%A9morial_de_la_Shoah\nMinerals collection of Pierre and Marie Curie University https://fr.wikipedia.org/wiki/Universit%C3%A9_Pierre-et-Marie-Curie\nMona Bismarck American Center https://fr.wikipedia.org/wiki/American_Center_for_Art_And_Culture\nMundolingua https://fr.wikipedia.org/wiki/Mundolingua\nMus\u00e9e \u2013 Librairie du Compagnonnage https://fr.wikipedia.org/wiki/Mus%C3%A9e-librairie_du_compagnonnage\nMus\u00e9e Adzak https://fr.wikipedia.org/wiki/Mus%C3%A9e_Adzak\nMus\u00e9e \"Bible et Terre Sainte\" https://fr.wikipedia.org/wiki/Mus%C3%A9e_Bible_et_Terre_Sainte\nMus\u00e9e Baccarat https://fr.wikipedia.org/wiki/Mus%C3%A9e_Baccarat_(Paris)\nMus\u00e9e Bourdelle https://fr.wikipedia.org/wiki/Mus%C3%A9e_Bourdelle\nMus\u00e9e Carnavalet https://fr.wikipedia.org/wiki/Mus%C3%A9e_Carnavalet\nMus\u00e9e Cernuschi https://fr.wikipedia.org/wiki/Mus%C3%A9e_Cernuschi\nMus\u00e9e Clemenceau https://fr.wikipedia.org/wiki/Mus%C3%A9e_Clemenceau\nMus\u00e9e Cognacq-Jay https://fr.wikipedia.org/wiki/Mus%C3%A9e_Cognacq-Jay\nMus\u00e9e Curie https://fr.wikipedia.org/wiki/Mus%C3%A9e_Curie\nMus\u00e9e d'Art Dentaire Pierre Fauchard https://fr.wikipedia.org/wiki/Mus%C3%A9e_Pierre-Fauchard\nMus\u00e9e d'Art et d'Histoire du Juda\u00efsme https://fr.wikipedia.org/wiki/Mus%C3%A9e_d%27Art_et_d%27Histoire_du_juda%C3%AFsme\nMus\u00e9e d'Art Moderne de la Ville de Paris https://fr.wikipedia.org/wiki/Mus%C3%A9e_d%27art_moderne_de_la_ville_de_Paris\nMus\u00e9e d'Art Na\u00eff \u2013 Max Fourny https://fr.wikipedia.org/wiki/Halle_Saint-Pierre\nMus\u00e9e d'Ennery https://fr.wikipedia.org/wiki/Mus%C3%A9e_d%27Ennery\nMus\u00e9e d'Histoire Contemporaine https://fr.wikipedia.org/wiki/La_contemporaine\nMus\u00e9e d\u2019histoire de la m\u00e9decine https://fr.wikipedia.org/wiki/Mus%C3%A9e_d%27histoire_de_la_m%C3%A9decine_(Paris)\nMus\u00e9e d'Orsay https://fr.wikipedia.org/wiki/Mus%C3%A9e_d%27Orsay\nMus\u00e9e de l'Arm\u00e9e https://fr.wikipedia.org/wiki/Mus%C3%A9e_de_l%27Arm%C3%A9e_(Paris)\nMus\u00e9e de l'\u00e9rotisme https://fr.wikipedia.org/wiki/Mus%C3%A9e_de_l%27%C3%A9rotisme_(Paris)\nMus\u00e9e de l'\u00c9ventail https://fr.wikipedia.org/wiki/Mus%C3%A9e_de_l%27%C3%89ventail\nMus\u00e9e de l'histoire de France https://fr.wikipedia.org/wiki/Mus%C3%A9e_de_l%27Histoire_de_France\nMus\u00e9e de l'Homme https://fr.wikipedia.org/wiki/Mus%C3%A9e_de_l%27Homme\nMus\u00e9e de l'Orangerie https://fr.wikipedia.org/wiki/Mus%C3%A9e_de_l%27Orangerie\nMus\u00e9e de l'Ordre de la Lib\u00e9ration https://fr.wikipedia.org/wiki/Mus%C3%A9e_de_l%27Ordre_de_la_Lib%C3%A9ration\nMus\u00e9e de la Chasse et de la Nature https://fr.wikipedia.org/wiki/Mus%C3%A9e_de_la_chasse_et_de_la_nature\nMus\u00e9e de la Contrefa\u00e7on https://fr.wikipedia.org/wiki/Mus%C3%A9e_de_la_Contrefa%C3%A7on\nMus\u00e9e de la Franc-Ma\u00e7onnerie https://fr.wikipedia.org/wiki/Mus%C3%A9e_de_la_franc-ma%C3%A7onnerie\nMus\u00e9e de la Magie https://fr.wikipedia.org/wiki/Mus%C3%A9e_de_la_Magie\nMus\u00e9e du 11 Conti - Monnaie de Paris https://fr.wikipedia.org/wiki/Monnaie_de_Paris\nMus\u00e9e de la Musique https://fr.wikipedia.org/wiki/Cit%C3%A9_de_la_musique\nMus\u00e9e de La Poste https://fr.wikipedia.org/wiki/L%27Adresse_Mus%C3%A9e_de_La_Poste\nMus\u00e9e de la Sculpture en Plein Air https://fr.wikipedia.org/wiki/Mus%C3%A9e_de_la_Sculpture_en_plein_air\nMus\u00e9e de la Vie Romantique https://fr.wikipedia.org/wiki/Mus%C3%A9e_de_la_Vie_romantique\nMus\u00e9e de Min\u00e9ralogie https://fr.wikipedia.org/wiki/Mus%C3%A9e_de_Min%C3%A9ralogie\nMus\u00e9e de Montmartre https://fr.wikipedia.org/wiki/Mus%C3%A9e_de_Montmartre\nMus\u00e9e des Arts D\u00e9coratifs https://fr.wikipedia.org/wiki/Mus%C3%A9e_des_Arts_d%C3%A9coratifs_(Paris)\nMus\u00e9e des Arts et M\u00e9tiers https://fr.wikipedia.org/wiki/Mus%C3%A9e_des_Arts_et_m%C3%A9tiers\nMus\u00e9e des Arts Forains https://fr.wikipedia.org/wiki/Mus%C3%A9e_des_Arts_forains\nMus\u00e9e des Collections Historiques de la Pr\u00e9fecture de Police https://fr.wikipedia.org/wiki/Mus%C3%A9e_de_la_pr%C3%A9fecture_de_police\nMus\u00e9e des \u00c9gouts de Paris https://fr.wikipedia.org/wiki/Mus%C3%A9e_des_%C3%89gouts_(Paris)\nMus\u00e9e des Lunettes et Lorgnettes Pierre Marly https://fr.wikipedia.org/wiki/Mus%C3%A9e_Pierre-Marly\nMus\u00e9e des Plans-Reliefs https://fr.wikipedia.org/wiki/Mus%C3%A9e_des_Plans-reliefs\nMus\u00e9e du Barreau de Paris https://fr.wikipedia.org/wiki/Mus%C3%A9e_du_barreau_de_Paris\nMus\u00e9e du Fumeur https://fr.wikipedia.org/wiki/Mus%C3%A9e_du_Fumeur\nMus\u00e9e du Louvre https://fr.wikipedia.org/wiki/Mus%C3%A9e_du_Louvre\nMus\u00e9e du G\u00e9n\u00e9ral Leclerc de Hauteclocque et de la Lib\u00e9ration de Paris \u2013 Mus\u00e9e Jean Moulin https://fr.wikipedia.org/wiki/Mus%C3%A9e_du_G%C3%A9n%C3%A9ral_Leclerc_de_Hauteclocque_et_de_la_Lib%C3%A9ration_de_Paris_-_mus%C3%A9e_Jean-Moulin\nMus\u00e9e du Luxembourg https://fr.wikipedia.org/wiki/Mus%C3%A9e_du_Luxembourg\nMus\u00e9e du Parfum Fragonard https://fr.wikipedia.org/wiki/Mus%C3%A9e_du_Parfum_(Paris)\nMus\u00e9e du quai Branly https://fr.wikipedia.org/wiki/Mus%C3%A9e_du_quai_Branly_-_Jacques-Chirac\nMus\u00e9e du Vin https://fr.wikipedia.org/wiki/Mus%C3%A9e_du_Vin_(Paris)\nMus\u00e9e \u00c9dith Piaf https://fr.wikipedia.org/wiki/Mus%C3%A9e_%C3%89dith-Piaf\nMus\u00e9e en Herbe https://fr.wikipedia.org/wiki/Mus%C3%A9e_en_Herbe\nMus\u00e9e Gr\u00e9vin https://fr.wikipedia.org/wiki/Mus%C3%A9e_Gr%C3%A9vin\nMus\u00e9e Jacquemart-Andr\u00e9 https://fr.wikipedia.org/wiki/Mus%C3%A9e_Jacquemart-Andr%C3%A9\nMus\u00e9e Maillol https://fr.wikipedia.org/wiki/Mus%C3%A9e_Maillol_de_Paris\nMus\u00e9e Marmottan Monet https://fr.wikipedia.org/wiki/Mus%C3%A9e_Marmottan_Monet\nMus\u00e9e Moissan https://fr.wikipedia.org/wiki/Mus%C3%A9e_Moissan\nMus\u00e9e National d'Art Moderne https://fr.wikipedia.org/wiki/Mus%C3%A9e_national_d%27Art_moderne\nMus\u00e9e national de la L\u00e9gion d'Honneur et des Ordres de Chevalerie https://fr.wikipedia.org/wiki/Mus%C3%A9e_de_la_L%C3%A9gion_d%27honneur\nMus\u00e9e national de la Marine https://fr.wikipedia.org/wiki/Mus%C3%A9e_national_de_la_Marine\nMus\u00e9e national des Arts asiatiques-Guimet https://fr.wikipedia.org/wiki/Mus%C3%A9e_national_des_Arts_asiatiques_-_Guimet\nMus\u00e9e national du Moyen \u00c2ge https://fr.wikipedia.org/wiki/Mus%C3%A9e_de_Cluny\nMus\u00e9e national Eug\u00e8ne Delacroix https://fr.wikipedia.org/wiki/Mus%C3%A9e_national_Eug%C3%A8ne-Delacroix\nMus\u00e9e national Gustave Moreau https://fr.wikipedia.org/wiki/Mus%C3%A9e_Gustave-Moreau\nMus\u00e9e national Jean-Jacques Henner https://fr.wikipedia.org/wiki/Mus%C3%A9e_national_Jean-Jacques-Henner\nMus\u00e9e Nissim de Camondo https://fr.wikipedia.org/wiki/Mus%C3%A9e_Nissim-de-Camondo\nMus\u00e9e Pasteur https://fr.wikipedia.org/wiki/Mus%C3%A9e_Pasteur\nMus\u00e9e Picasso https://fr.wikipedia.org/wiki/Mus%C3%A9e_Picasso_(Paris)\nMus\u00e9e Rodin https://fr.wikipedia.org/wiki/Mus%C3%A9e_Rodin\nMus\u00e9e Valentin Ha\u00fcy https://fr.wikipedia.org/wiki/Mus%C3%A9e_Valentin-Ha%C3%BCy\nMus\u00e9e Zadkine https://fr.wikipedia.org/wiki/Mus%C3%A9e_Zadkine\nMus\u00e9um national d'Histoire naturelle https://fr.wikipedia.org/wiki/Mus%C3%A9um_national_d%27histoire_naturelle\nPalais de la D\u00e9couverte https://fr.wikipedia.org/wiki/Palais_de_la_d%C3%A9couverte\nPalais de Tokyo https://fr.wikipedia.org/wiki/Palais_de_Tokyo\nPalais Galliera https://fr.wikipedia.org/wiki/Palais_Galliera,_mus%C3%A9e_de_la_Mode_de_la_ville_de_Paris\nPavillon de l'Arsenal https://fr.wikipedia.org/wiki/Pavillon_de_l%27Arsenal\nPavillon de l'eau https://fr.wikipedia.org/wiki/Pavillon_de_l%27eau\nPetit Palais https://fr.wikipedia.org/wiki/Petit_Palais\nSalle des Traditions de la Garde R\u00e9publicaine https://fr.wikipedia.org/wiki/Salle_des_traditions_de_la_Garde_r%C3%A9publicaine\nTh\u00e9\u00e2tre-Mus\u00e9e des Capucines https://fr.wikipedia.org/wiki/Th%C3%A9%C3%A2tre-Mus%C3%A9e_des_Capucines\nTour Jean-sans-Peur https://fr.wikipedia.org/wiki/Tour_Jean-sans-Peur\nWorld Heritage Centre https://fr.wikipedia.org/wiki/Maison_de_l%27Unesco\n"
                }, 
                {
                    "execution_count": 5, 
                    "metadata": {}, 
                    "data": {
                        "text/html": "<div>\n<style scoped>\n    .dataframe tbody tr th:only-of-type {\n        vertical-align: middle;\n    }\n\n    .dataframe tbody tr th {\n        vertical-align: top;\n    }\n\n    .dataframe thead th {\n        text-align: right;\n    }\n</style>\n<table border=\"1\" class=\"dataframe\">\n  <thead>\n    <tr style=\"text-align: right;\">\n      <th></th>\n      <th>Museum name</th>\n      <th>Latitude</th>\n      <th>Longitude</th>\n    </tr>\n  </thead>\n  <tbody>\n    <tr>\n      <th>0</th>\n      <td>Arab World Institute</td>\n      <td>48.849167</td>\n      <td>2.356944</td>\n    </tr>\n    <tr>\n      <th>1</th>\n      <td>Archaeological Crypt of the Paris Notre-Dame</td>\n      <td>48.853056</td>\n      <td>2.349722</td>\n    </tr>\n    <tr>\n      <th>2</th>\n      <td>Biblioth\u00e8que-Mus\u00e9e de l'Op\u00e9ra National de Paris</td>\n      <td>48.871944</td>\n      <td>2.331111</td>\n    </tr>\n    <tr>\n      <th>3</th>\n      <td>Biblioth\u00e8que Polonaise de Paris</td>\n      <td>48.851389</td>\n      <td>2.355833</td>\n    </tr>\n    <tr>\n      <th>4</th>\n      <td>Cabinet des M\u00e9dailles</td>\n      <td>48.867778</td>\n      <td>2.338333</td>\n    </tr>\n    <tr>\n      <th>5</th>\n      <td>Catacombes de Paris</td>\n      <td>48.833889</td>\n      <td>2.332222</td>\n    </tr>\n    <tr>\n      <th>6</th>\n      <td>Cit\u00e9 de l'Architecture et du Patrimoine</td>\n      <td>48.863056</td>\n      <td>2.289444</td>\n    </tr>\n    <tr>\n      <th>7</th>\n      <td>Cit\u00e9 des Sciences et de l'Industrie</td>\n      <td>48.895556</td>\n      <td>2.388056</td>\n    </tr>\n    <tr>\n      <th>8</th>\n      <td>Cit\u00e9 nationale de l'histoire de l'immigration</td>\n      <td>48.835278</td>\n      <td>2.409444</td>\n    </tr>\n    <tr>\n      <th>9</th>\n      <td>Espace Dal\u00ed</td>\n      <td>48.886667</td>\n      <td>2.339722</td>\n    </tr>\n  </tbody>\n</table>\n</div>", 
                        "text/plain": "                                       Museum name   Latitude  Longitude\n0                             Arab World Institute  48.849167   2.356944\n1     Archaeological Crypt of the Paris Notre-Dame  48.853056   2.349722\n2  Biblioth\u00e8que-Mus\u00e9e de l'Op\u00e9ra National de Paris  48.871944   2.331111\n3                  Biblioth\u00e8que Polonaise de Paris  48.851389   2.355833\n4                            Cabinet des M\u00e9dailles  48.867778   2.338333\n5                              Catacombes de Paris  48.833889   2.332222\n6          Cit\u00e9 de l'Architecture et du Patrimoine  48.863056   2.289444\n7              Cit\u00e9 des Sciences et de l'Industrie  48.895556   2.388056\n8    Cit\u00e9 nationale de l'histoire de l'immigration  48.835278   2.409444\n9                                      Espace Dal\u00ed  48.886667   2.339722"
                    }, 
                    "output_type": "execute_result"
                }
            ], 
            "source": "for museum in soup.body.table.find_all('td')[::5]:\n    try:\n        museum_name = museum.a.get_text()\n        museum_webpage = \"https://en.wikipedia.org\"+museum.a.get('href')\n        if \"redlink\" not in museum_webpage:\n            soup_museum = get_soup(museum_webpage)\n            french_webpage = find_french_page(soup_museum)\n            print(museum_name, french_webpage)    \n            soup_french = get_soup(french_webpage)\n            coordinates = soup_french.body.span.a.get_text().split()\n            if len(coordinates) == 8:\n                lat, long = get_latlong(coordinates)\n                df = df.append({'Museum name': museum_name, 'Latitude':lat, 'Longitude':long}, ignore_index=True)\n    except:\n        pass\n    \ndf.head(10)"
        }, 
        {
            "execution_count": 6, 
            "cell_type": "code", 
            "metadata": {}, 
            "outputs": [
                {
                    "output_type": "stream", 
                    "name": "stdout", 
                    "text": "Paris is at the coordinates (48.859524627720525, 2.330758877434135).\n"
                }
            ], 
            "source": "lat_paris, long_paris = df['Latitude'].mean(), df['Longitude'].mean()\nprint('Paris is at the coordinates (%s, %s).' % (lat_paris, long_paris))"
        }, 
        {
            "source": "# Error\nI did not manage to import the folium package in the latest execution of this notebook for unresolved reasons, so this map is unavailable. It is Figure no 1 in the associated docx report.", 
            "cell_type": "markdown", 
            "metadata": {}
        }, 
        {
            "execution_count": 7, 
            "cell_type": "code", 
            "metadata": {}, 
            "outputs": [
                {
                    "execution_count": 7, 
                    "metadata": {}, 
                    "data": {
                        "text/plain": "'\"map_paris = folium.Map(location=[lat_paris, long_paris], zoom_start=12)\\n\\n# add markers to map\\nfor lat, lng, museum in zip(df[\\'Latitude\\'], df[\\'Longitude\\'], df[\\'Museum name\\']):\\n    label = \\'{}\\'.format(museum)\\n    label = folium.Popup(label, parse_html=True)\\n    folium.CircleMarker(\\n        [lat, lng],\\n        radius=5,\\n        popup=label,\\n        color=\\'blue\\',\\n        fill=True,\\n        fill_color=\\'#3186cc\\',\\n        fill_opacity=0.7,\\n        parse_html=False).add_to(map_paris)  \\n    \\nmap_paris\\n'"
                    }, 
                    "output_type": "execute_result"
                }
            ], 
            "source": "\"\"\"\"map_paris = folium.Map(location=[lat_paris, long_paris], zoom_start=12)\n\n# add markers to map\nfor lat, lng, museum in zip(df['Latitude'], df['Longitude'], df['Museum name']):\n    label = '{}'.format(museum)\n    label = folium.Popup(label, parse_html=True)\n    folium.CircleMarker(\n        [lat, lng],\n        radius=5,\n        popup=label,\n        color='blue',\n        fill=True,\n        fill_color='#3186cc',\n        fill_opacity=0.7,\n        parse_html=False).add_to(map_paris)  \n    \nmap_paris\n\"\"\"\n"
        }, 
        {
            "source": "As displayed by the map, we now have a list of geo-referenced museums in Paris.", 
            "cell_type": "markdown", 
            "metadata": {}
        }, 
        {
            "source": "## Data acquisition from the Foursquare API \n\nIn this part, the Foursquare API is used to query which venues can be found around each of the museums.", 
            "cell_type": "markdown", 
            "metadata": {}
        }, 
        {
            "execution_count": 8, 
            "cell_type": "code", 
            "metadata": {}, 
            "outputs": [], 
            "source": "# The code was removed by Watson Studio for sharing."
        }, 
        {
            "execution_count": 9, 
            "cell_type": "code", 
            "metadata": {}, 
            "outputs": [], 
            "source": "radius = 300\nLIMIT = 200"
        }, 
        {
            "execution_count": 10, 
            "cell_type": "code", 
            "metadata": {}, 
            "outputs": [], 
            "source": "# function that extracts the category of the venue\ndef get_category_type(row):\n    try:\n        categories_list = row['categories']\n    except:\n        categories_list = row['venue.categories']\n        \n    if len(categories_list) == 0:\n        return None\n    else:\n        return categories_list[0]['name']"
        }, 
        {
            "execution_count": 11, 
            "cell_type": "code", 
            "metadata": {}, 
            "outputs": [
                {
                    "output_type": "stream", 
                    "name": "stdout", 
                    "text": "Latitude and longitude values of Arab World Institute are 48.84916666666667, 2.3569444444444447.\n"
                }
            ], 
            "source": "museum_latitude = df.loc[0, 'Latitude'] # neighborhood latitude value\nmuseum_longitude = df.loc[0, 'Longitude'] # neighborhood longitude value\n\nmuseum_name = df.loc[0, 'Museum name'] # neighborhood name\n\nprint('Latitude and longitude values of {} are {}, {}.'.format(museum_name, \n                                                               museum_latitude, \n                                                               museum_longitude))"
        }, 
        {
            "execution_count": 12, 
            "cell_type": "code", 
            "metadata": {}, 
            "outputs": [], 
            "source": "def getNearbyVenues(names, latitudes, longitudes, radius=500):\n    \n    venues_list=[]\n    for name, lat, lng in zip(names, latitudes, longitudes):\n        print(name)\n            \n        # create the API request URL\n        url = 'https://api.foursquare.com/v2/venues/explore?&client_id={}&client_secret={}&v={}&ll={},{}&radius={}&limit={}'.format(\n            CLIENT_ID, \n            CLIENT_SECRET, \n            VERSION, \n            lat, \n            lng, \n            radius, \n            LIMIT)\n            \n        # make the GET request\n        results = requests.get(url).json()[\"response\"]['groups'][0]['items']\n        \n\n        venues_list.append([(\n            name, \n            lat, \n            lng, \n            v['venue']['name'], \n            v['venue']['location']['lat'], \n            v['venue']['location']['lng'],  \n            v['venue']['categories'][0]['name']) for v in results if 'food' in v['venue']['categories'][0]['icon']['prefix']])\n\n        # ADDED TEST TO ONLY CONSIDER THE VENUES IN THE \"FOOD\" CATEGORY\n        \n    nearby_venues = pd.DataFrame([item for venue_list in venues_list for item in venue_list])\n    nearby_venues.columns = ['Museum', \n                  'Museum Latitude', \n                  'Museum Longitude', \n                  'Venue', \n                  'Venue Latitude', \n                  'Venue Longitude', \n                  'Venue Category']\n    \n    return(nearby_venues)"
        }, 
        {
            "execution_count": 13, 
            "cell_type": "code", 
            "metadata": {}, 
            "outputs": [
                {
                    "output_type": "stream", 
                    "name": "stdout", 
                    "text": "Arab World Institute\nArchaeological Crypt of the Paris Notre-Dame\nBiblioth\u00e8que-Mus\u00e9e de l'Op\u00e9ra National de Paris\nBiblioth\u00e8que Polonaise de Paris\nCabinet des M\u00e9dailles\nCatacombes de Paris\nCit\u00e9 de l'Architecture et du Patrimoine\nCit\u00e9 des Sciences et de l'Industrie\nCit\u00e9 nationale de l'histoire de l'immigration\nEspace Dal\u00ed\nFondation Cartier pour l'Art Contemporain\nGalerie des Gobelins\nGalerie nationale du Jeu de Paume\nInstitut Tessin\nLa Maison Rouge\nMaison d'Auguste Comte\nMaison de Balzac\nMaison europ\u00e9enne de la photographie\nMaison de Victor Hugo\nMaison La Roche\nM\u00e9morial de la Shoah\nMona Bismarck American Center\nMundolingua\nMus\u00e9e \u2013 Librairie du Compagnonnage\nMus\u00e9e Adzak\nMus\u00e9e \"Bible et Terre Sainte\"\nMus\u00e9e Baccarat\nMus\u00e9e Bourdelle\nMus\u00e9e Carnavalet\nMus\u00e9e Cernuschi\nMus\u00e9e Clemenceau\nMus\u00e9e Curie\nMus\u00e9e d'Art Dentaire Pierre Fauchard\nMus\u00e9e d'Art et d'Histoire du Juda\u00efsme\nMus\u00e9e d'Art Moderne de la Ville de Paris\nMus\u00e9e d'Art Na\u00eff \u2013 Max Fourny\nMus\u00e9e d'Ennery\nMus\u00e9e d'Histoire Contemporaine\nMus\u00e9e d\u2019histoire de la m\u00e9decine\nMus\u00e9e d'Orsay\nMus\u00e9e de l'Arm\u00e9e\nMus\u00e9e de l'\u00e9rotisme\nMus\u00e9e de l'\u00c9ventail\nMus\u00e9e de l'histoire de France\nMus\u00e9e de l'Homme\nMus\u00e9e de l'Ordre de la Lib\u00e9ration\nMus\u00e9e de la Chasse et de la Nature\nMus\u00e9e de la Franc-Ma\u00e7onnerie\nMus\u00e9e de la Magie\nMus\u00e9e de la Musique\nMus\u00e9e de La Poste\nMus\u00e9e de la Sculpture en Plein Air\nMus\u00e9e de la Vie Romantique\nMus\u00e9e de Min\u00e9ralogie\nMus\u00e9e de Montmartre\nMus\u00e9e des Arts et M\u00e9tiers\nMus\u00e9e des Arts Forains\nMus\u00e9e des Collections Historiques de la Pr\u00e9fecture de Police\nMus\u00e9e des \u00c9gouts de Paris\nMus\u00e9e des Lunettes et Lorgnettes Pierre Marly\nMus\u00e9e des Plans-Reliefs\nMus\u00e9e du Barreau de Paris\nMus\u00e9e du Fumeur\nMus\u00e9e du Louvre\nMus\u00e9e du G\u00e9n\u00e9ral Leclerc de Hauteclocque et de la Lib\u00e9ration de Paris \u2013 Mus\u00e9e Jean Moulin\nMus\u00e9e du Parfum Fragonard\nMus\u00e9e du quai Branly\nMus\u00e9e du Vin\nMus\u00e9e \u00c9dith Piaf\nMus\u00e9e en Herbe\nMus\u00e9e Gr\u00e9vin\nMus\u00e9e Jacquemart-Andr\u00e9\nMus\u00e9e Maillol\nMus\u00e9e Moissan\nMus\u00e9e National d'Art Moderne\nMus\u00e9e national de la L\u00e9gion d'Honneur et des Ordres de Chevalerie\nMus\u00e9e national de la Marine\nMus\u00e9e national des Arts asiatiques-Guimet\nMus\u00e9e national du Moyen \u00c2ge\nMus\u00e9e national Eug\u00e8ne Delacroix\nMus\u00e9e national Gustave Moreau\nMus\u00e9e national Jean-Jacques Henner\nMus\u00e9e Nissim de Camondo\nMus\u00e9e Pasteur\nMus\u00e9e Picasso\nMus\u00e9e Rodin\nMus\u00e9e Valentin Ha\u00fcy\nMus\u00e9e Zadkine\nMus\u00e9um national d'Histoire naturelle\nPalais de Tokyo\nPalais Galliera\nPavillon de l'Arsenal\nPavillon de l'eau\nPetit Palais\nSalle des Traditions de la Garde R\u00e9publicaine\nTour Jean-sans-Peur\nWorld Heritage Centre\n"
                }
            ], 
            "source": "museum_venues = getNearbyVenues(names=df['Museum name'],\n                                   latitudes=df['Latitude'],\n                                   longitudes=df['Longitude']\n                                  )"
        }, 
        {
            "source": "## Data treatment\n\nIn this part, the data is cleaned and prepared for the classification section. I tried in particular to remove venue categories that are not restaurants, to combine small category sets into larger, more general ones, and to avoid duplicates due to language (ex: Bistro/Brasserie).", 
            "cell_type": "markdown", 
            "metadata": {}
        }, 
        {
            "execution_count": 14, 
            "cell_type": "code", 
            "metadata": {}, 
            "outputs": [
                {
                    "output_type": "stream", 
                    "name": "stdout", 
                    "text": "There are 127 uniques categories.\n"
                }
            ], 
            "source": "print('There are {} uniques categories.'.format(len(museum_venues['Venue Category'].unique())))"
        }, 
        {
            "execution_count": 15, 
            "cell_type": "code", 
            "metadata": {}, 
            "outputs": [
                {
                    "execution_count": 15, 
                    "metadata": {}, 
                    "data": {
                        "text/html": "<div>\n<style scoped>\n    .dataframe tbody tr th:only-of-type {\n        vertical-align: middle;\n    }\n\n    .dataframe tbody tr th {\n        vertical-align: top;\n    }\n\n    .dataframe thead th {\n        text-align: right;\n    }\n</style>\n<table border=\"1\" class=\"dataframe\">\n  <thead>\n    <tr style=\"text-align: right;\">\n      <th></th>\n      <th>Museum Latitude</th>\n      <th>Museum Longitude</th>\n      <th>Venue</th>\n      <th>Venue Latitude</th>\n      <th>Venue Longitude</th>\n      <th>Venue Category</th>\n    </tr>\n    <tr>\n      <th>Museum</th>\n      <th></th>\n      <th></th>\n      <th></th>\n      <th></th>\n      <th></th>\n      <th></th>\n    </tr>\n  </thead>\n  <tbody>\n    <tr>\n      <th>Arab World Institute</th>\n      <td>54</td>\n      <td>54</td>\n      <td>54</td>\n      <td>54</td>\n      <td>54</td>\n      <td>54</td>\n    </tr>\n    <tr>\n      <th>Archaeological Crypt of the Paris Notre-Dame</th>\n      <td>62</td>\n      <td>62</td>\n      <td>62</td>\n      <td>62</td>\n      <td>62</td>\n      <td>62</td>\n    </tr>\n    <tr>\n      <th>Biblioth\u00e8que Polonaise de Paris</th>\n      <td>51</td>\n      <td>51</td>\n      <td>51</td>\n      <td>51</td>\n      <td>51</td>\n      <td>51</td>\n    </tr>\n    <tr>\n      <th>Biblioth\u00e8que-Mus\u00e9e de l'Op\u00e9ra National de Paris</th>\n      <td>42</td>\n      <td>42</td>\n      <td>42</td>\n      <td>42</td>\n      <td>42</td>\n      <td>42</td>\n    </tr>\n    <tr>\n      <th>Cabinet des M\u00e9dailles</th>\n      <td>76</td>\n      <td>76</td>\n      <td>76</td>\n      <td>76</td>\n      <td>76</td>\n      <td>76</td>\n    </tr>\n    <tr>\n      <th>Catacombes de Paris</th>\n      <td>45</td>\n      <td>45</td>\n      <td>45</td>\n      <td>45</td>\n      <td>45</td>\n      <td>45</td>\n    </tr>\n    <tr>\n      <th>Cit\u00e9 de l'Architecture et du Patrimoine</th>\n      <td>26</td>\n      <td>26</td>\n      <td>26</td>\n      <td>26</td>\n      <td>26</td>\n      <td>26</td>\n    </tr>\n    <tr>\n      <th>Cit\u00e9 des Sciences et de l'Industrie</th>\n      <td>27</td>\n      <td>27</td>\n      <td>27</td>\n      <td>27</td>\n      <td>27</td>\n      <td>27</td>\n    </tr>\n    <tr>\n      <th>Cit\u00e9 nationale de l'histoire de l'immigration</th>\n      <td>11</td>\n      <td>11</td>\n      <td>11</td>\n      <td>11</td>\n      <td>11</td>\n      <td>11</td>\n    </tr>\n    <tr>\n      <th>Espace Dal\u00ed</th>\n      <td>63</td>\n      <td>63</td>\n      <td>63</td>\n      <td>63</td>\n      <td>63</td>\n      <td>63</td>\n    </tr>\n  </tbody>\n</table>\n</div>", 
                        "text/plain": "                                                 Museum Latitude  \\\nMuseum                                                             \nArab World Institute                                          54   \nArchaeological Crypt of the Paris Notre-Dame                  62   \nBiblioth\u00e8que Polonaise de Paris                               51   \nBiblioth\u00e8que-Mus\u00e9e de l'Op\u00e9ra National de Paris               42   \nCabinet des M\u00e9dailles                                         76   \nCatacombes de Paris                                           45   \nCit\u00e9 de l'Architecture et du Patrimoine                       26   \nCit\u00e9 des Sciences et de l'Industrie                           27   \nCit\u00e9 nationale de l'histoire de l'immigration                 11   \nEspace Dal\u00ed                                                   63   \n\n                                                 Museum Longitude  Venue  \\\nMuseum                                                                     \nArab World Institute                                           54     54   \nArchaeological Crypt of the Paris Notre-Dame                   62     62   \nBiblioth\u00e8que Polonaise de Paris                                51     51   \nBiblioth\u00e8que-Mus\u00e9e de l'Op\u00e9ra National de Paris                42     42   \nCabinet des M\u00e9dailles                                          76     76   \nCatacombes de Paris                                            45     45   \nCit\u00e9 de l'Architecture et du Patrimoine                        26     26   \nCit\u00e9 des Sciences et de l'Industrie                            27     27   \nCit\u00e9 nationale de l'histoire de l'immigration                  11     11   \nEspace Dal\u00ed                                                    63     63   \n\n                                                 Venue Latitude  \\\nMuseum                                                            \nArab World Institute                                         54   \nArchaeological Crypt of the Paris Notre-Dame                 62   \nBiblioth\u00e8que Polonaise de Paris                              51   \nBiblioth\u00e8que-Mus\u00e9e de l'Op\u00e9ra National de Paris              42   \nCabinet des M\u00e9dailles                                        76   \nCatacombes de Paris                                          45   \nCit\u00e9 de l'Architecture et du Patrimoine                      26   \nCit\u00e9 des Sciences et de l'Industrie                          27   \nCit\u00e9 nationale de l'histoire de l'immigration                11   \nEspace Dal\u00ed                                                  63   \n\n                                                 Venue Longitude  \\\nMuseum                                                             \nArab World Institute                                          54   \nArchaeological Crypt of the Paris Notre-Dame                  62   \nBiblioth\u00e8que Polonaise de Paris                               51   \nBiblioth\u00e8que-Mus\u00e9e de l'Op\u00e9ra National de Paris               42   \nCabinet des M\u00e9dailles                                         76   \nCatacombes de Paris                                           45   \nCit\u00e9 de l'Architecture et du Patrimoine                       26   \nCit\u00e9 des Sciences et de l'Industrie                           27   \nCit\u00e9 nationale de l'histoire de l'immigration                 11   \nEspace Dal\u00ed                                                   63   \n\n                                                 Venue Category  \nMuseum                                                           \nArab World Institute                                         54  \nArchaeological Crypt of the Paris Notre-Dame                 62  \nBiblioth\u00e8que Polonaise de Paris                              51  \nBiblioth\u00e8que-Mus\u00e9e de l'Op\u00e9ra National de Paris              42  \nCabinet des M\u00e9dailles                                        76  \nCatacombes de Paris                                          45  \nCit\u00e9 de l'Architecture et du Patrimoine                      26  \nCit\u00e9 des Sciences et de l'Industrie                          27  \nCit\u00e9 nationale de l'histoire de l'immigration                11  \nEspace Dal\u00ed                                                  63  "
                    }, 
                    "output_type": "execute_result"
                }
            ], 
            "source": "too_few_venues = museum_venues.groupby('Museum').count()['Museum Latitude'] < 10\ntoo_few_venues = too_few_venues.reset_index()\nfor i,museum in too_few_venues.iterrows():\n    if museum['Museum Latitude']:\n        museum_venues.drop(museum_venues[museum_venues['Museum'] == museum['Museum']].index, inplace=True)\nmuseum_venues.groupby('Museum').count().head(10) # verification\n"
        }, 
        {
            "source": "I remove the generic \"Restaurant\" and \"Diner\" types because they do not provide enough information to be valuable here.", 
            "cell_type": "markdown", 
            "metadata": {}
        }, 
        {
            "execution_count": 16, 
            "cell_type": "code", 
            "metadata": {}, 
            "outputs": [], 
            "source": "museum_venues.drop(museum_venues[museum_venues['Venue Category'] == 'Restaurant'].index, inplace=True)\nmuseum_venues.drop(museum_venues[museum_venues['Venue Category'] == 'Diner'].index, inplace=True)"
        }, 
        {
            "source": "I remove supermarkets, stores, shops, markets and street food from the list.", 
            "cell_type": "markdown", 
            "metadata": {}
        }, 
        {
            "execution_count": 17, 
            "cell_type": "code", 
            "metadata": {}, 
            "outputs": [], 
            "source": "museum_venues.drop(museum_venues[museum_venues['Venue Category'].str.contains('Store')].index, inplace=True)\nmuseum_venues.drop(museum_venues[museum_venues['Venue Category'].str.contains('Shop')].index, inplace=True)\nmuseum_venues.drop(museum_venues[museum_venues['Venue Category'].str.contains('Supermarket')].index, inplace=True)\nmuseum_venues.drop(museum_venues[museum_venues['Venue Category'].str.contains('Street Food')].index, inplace=True)\nmuseum_venues.drop(museum_venues[museum_venues['Venue Category'].str.contains('Food Truck')].index, inplace=True)\nmuseum_venues.drop(museum_venues[museum_venues['Venue Category'].str.contains('Food Court')].index, inplace=True)\nmuseum_venues.drop(museum_venues[museum_venues['Venue Category'].str.contains('Market')].index, inplace=True)"
        }, 
        {
            "source": "For restaurants types with less than 3 entries, I reclassified them into more general categories so that they have a more meaningful impact on the classification. ", 
            "cell_type": "markdown", 
            "metadata": {}
        }, 
        {
            "execution_count": 18, 
            "cell_type": "code", 
            "metadata": {}, 
            "outputs": [], 
            "source": "museum_venues.replace('Organic Grocery', 'Grocery Store',inplace=True)\nmuseum_venues.replace('South American Restaurant', 'Latin American Restaurant',inplace=True)\nmuseum_venues.replace('Caribbean Restaurant', 'Latin American Restaurant',inplace=True)\nmuseum_venues.replace('Venezuelan Restaurant', 'Latin American Restaurant',inplace=True)\nmuseum_venues.replace('Peruvian Restaurant', 'Latin American Restaurant',inplace=True)\nmuseum_venues.replace('Argentinian Restaurant', 'Latin American Restaurant',inplace=True)\nmuseum_venues.replace('Arepa Restaurant', 'Latin American Restaurant',inplace=True)\nmuseum_venues.replace('Empanada Restaurant', 'Latin American Restaurant',inplace=True)\nmuseum_venues.replace('Brazilian Restaurant', 'Latin American Restaurant',inplace=True)\nmuseum_venues.replace('Romanian Restaurant', 'Eastern European Restaurant',inplace=True)\nmuseum_venues.replace('Russian Restaurant', 'Eastern European Restaurant',inplace=True)\nmuseum_venues.replace('Taiwanese Restaurant', 'Asian Restaurant',inplace=True)\nmuseum_venues.replace('Doner Restaurant', 'Turkish Restaurant',inplace=True)\nmuseum_venues.replace('Persian Restaurant', 'Middle Eastern Restaurant',inplace=True)\nmuseum_venues.replace('Afghan Restaurant', 'Middle Eastern Restaurant',inplace=True)\nmuseum_venues.replace('Champagne Bar', 'Wine Bar',inplace=True)\nmuseum_venues.replace('Wine bar', 'Wine Bar',inplace=True)\nmuseum_venues.replace('Hot Dog Joint', 'Fast Food Restaurant',inplace=True)\nmuseum_venues.replace('Snack Place', 'Fast Food Restaurant',inplace=True)\nmuseum_venues.replace('Ethiopian Restaurant', 'African Restaurant',inplace=True)\nmuseum_venues.replace('Cantonese Restaurant', 'Chinese Restaurant',inplace=True)\nmuseum_venues.replace('Dim Sum Restaurant', 'Chinese Restaurant',inplace=True)\nmuseum_venues.replace('Udon Restaurant', 'Japanese Restaurant',inplace=True)\nmuseum_venues.replace('Soba Restaurant', 'Japanese Restaurant',inplace=True)\nmuseum_venues.replace('Okonomiyaki Restaurant', 'Japanese Restaurant',inplace=True)\nmuseum_venues.replace('Sushi Restaurant', 'Japanese Restaurant',inplace=True)\nmuseum_venues.replace('Taco Place', 'Mexican Restaurant',inplace=True)\nmuseum_venues.replace('Brewery', 'Bistro',inplace=True)\nmuseum_venues.replace('BBQ Joint', 'Steakhouse',inplace=True)\nmuseum_venues.replace('Poke Place', 'Seafood Restaurant',inplace=True)\nmuseum_venues.replace('Portuguese Restaurant', 'Mediterranean Restaurant',inplace=True)\n"
        }, 
        {
            "source": "I fuse categories that are really similar.", 
            "cell_type": "markdown", 
            "metadata": {}
        }, 
        {
            "execution_count": 19, 
            "cell_type": "code", 
            "metadata": {}, 
            "outputs": [], 
            "source": "museum_venues.replace('Brasserie', 'Bistro',inplace=True)\nmuseum_venues.replace('Savoyard Restaurant', 'Regional French Restaurant',inplace=True)\nmuseum_venues.replace('Proven\u00e7al Restaurant', 'Regional French Restaurant',inplace=True)\nmuseum_venues.replace('Burgundian Restaurant', 'Regional French Restaurant',inplace=True)\nmuseum_venues.replace('Alsatian Restaurant', 'Regional French Restaurant',inplace=True)\nmuseum_venues.replace(\"Ch'ti Restaurant\", 'Regional French Restaurant',inplace=True)\nmuseum_venues.replace('Breton Restaurant', 'Regional French Restaurant',inplace=True)\nmuseum_venues.replace('Basque Restaurant', 'Regional French Restaurant',inplace=True)\nmuseum_venues.replace('Auvergne Restaurant', 'Regional French Restaurant',inplace=True)\nmuseum_venues.replace('Corsican Restaurant', 'Regional French Restaurant',inplace=True)\nmuseum_venues.replace('Lyonese Bouchon', 'Regional French Restaurant',inplace=True)\nmuseum_venues.replace('Southwestern French Restaurant', 'Regional French Restaurant',inplace=True)\nmuseum_venues.replace('Belgian Restaurant', 'Regional French Restaurant',inplace=True) # arbitrary \nmuseum_venues.replace('English Restaurant', 'Tea Room',inplace=True) # must be the same, there is no good food in England # joke \nmuseum_venues.replace('Ramen Restaurant', 'Noodle House',inplace=True)\nmuseum_venues.replace('Falafel Restaurant', 'Lebanese Restaurant',inplace=True)\nmuseum_venues.replace('Szechuan Restaurant', 'Chinese Restaurant',inplace=True)"
        }, 
        {
            "execution_count": 20, 
            "cell_type": "code", 
            "metadata": {}, 
            "outputs": [
                {
                    "execution_count": 20, 
                    "metadata": {}, 
                    "data": {
                        "text/plain": "Venue Category\nGrocery Store                         1\nIndonesian Restaurant                 1\nMolecular Gastronomy Restaurant       3\nSpanish Restaurant                    5\nCambodian Restaurant                  5\nGluten-free Restaurant                6\nComfort Food Restaurant               6\nEastern European Restaurant           9\nCajun / Creole Restaurant             9\nJuice Bar                             9\nIsraeli Restaurant                   10\nModern European Restaurant           10\nNew American Restaurant              12\nTurkish Restaurant                   12\nFast Food Restaurant                 13\nJewish Restaurant                    13\nScandinavian Restaurant              14\nAfrican Restaurant                   14\nBreakfast Spot                       15\nAmerican Restaurant                  16\nGreek Restaurant                     18\nSalad Place                          19\nMoroccan Restaurant                  19\nMiddle Eastern Restaurant            21\nMediterranean Restaurant             22\nVegetarian / Vegan Restaurant        23\nDeli / Bodega                        27\nMexican Restaurant                   27\nNoodle House                         28\nSteakhouse                           29\nLatin American Restaurant            30\nTapas Restaurant                     31\nGastropub                            34\nIndian Restaurant                    35\nKorean Restaurant                    37\nVietnamese Restaurant                38\nAsian Restaurant                     43\nThai Restaurant                      50\nLebanese Restaurant                  54\nChinese Restaurant                   57\nRegional French Restaurant           67\nSandwich Place                       68\nSeafood Restaurant                   74\nTea Room                             77\nBurger Joint                         81\nCreperie                             89\nWine Bar                            109\nPizza Place                         116\nCaf\u00e9                                195\nBakery                              200\nBistro                              207\nJapanese Restaurant                 220\nItalian Restaurant                  320\nFrench Restaurant                  1121\nName: Museum, dtype: int64"
                    }, 
                    "output_type": "execute_result"
                }
            ], 
            "source": "museum_venues.groupby('Venue Category').count()['Museum'].sort_values()"
        }, 
        {
            "source": "This list could always be refined, for instance by combining restaurants from all over the world into categories by continents. ", 
            "cell_type": "markdown", 
            "metadata": {}
        }, 
        {
            "execution_count": 21, 
            "cell_type": "code", 
            "metadata": {}, 
            "outputs": [
                {
                    "output_type": "stream", 
                    "name": "stdout", 
                    "text": "There are 54 uniques categories.\n"
                }
            ], 
            "source": "print('There are {} uniques categories.'.format(len(museum_venues['Venue Category'].unique())))"
        }, 
        {
            "execution_count": 22, 
            "cell_type": "code", 
            "metadata": {}, 
            "outputs": [], 
            "source": "# one hot encoding\nmuseum_onehot = pd.get_dummies(museum_venues[['Venue Category']], prefix=\"\", prefix_sep=\"\")\n\n# add museum column back to dataframe\nmuseum_onehot['Museum'] = museum_venues['Museum'] \n\n# move museum column to the first column\nfixed_columns = [museum_onehot.columns[-1]] + list(museum_onehot.columns[:-1])\nmuseum_onehot = museum_onehot[fixed_columns]\nmuseum_grouped = museum_onehot.groupby('Museum').mean().reset_index()"
        }, 
        {
            "execution_count": 23, 
            "cell_type": "code", 
            "metadata": {}, 
            "outputs": [
                {
                    "output_type": "stream", 
                    "name": "stdout", 
                    "text": "----Arab World Institute----\n"
                }, 
                {
                    "output_type": "display_data", 
                    "data": {
                        "text/html": "<div>\n<style scoped>\n    .dataframe tbody tr th:only-of-type {\n        vertical-align: middle;\n    }\n\n    .dataframe tbody tr th {\n        vertical-align: top;\n    }\n\n    .dataframe thead th {\n        text-align: right;\n    }\n</style>\n<table border=\"1\" class=\"dataframe\">\n  <thead>\n    <tr style=\"text-align: right;\">\n      <th></th>\n      <th>Venue category</th>\n      <th>Frequency</th>\n    </tr>\n  </thead>\n  <tbody>\n    <tr>\n      <th>0</th>\n      <td>French Restaurant</td>\n      <td>0.30</td>\n    </tr>\n    <tr>\n      <th>1</th>\n      <td>Bistro</td>\n      <td>0.11</td>\n    </tr>\n    <tr>\n      <th>2</th>\n      <td>Caf\u00e9</td>\n      <td>0.07</td>\n    </tr>\n    <tr>\n      <th>3</th>\n      <td>Japanese Restaurant</td>\n      <td>0.07</td>\n    </tr>\n    <tr>\n      <th>4</th>\n      <td>Creperie</td>\n      <td>0.07</td>\n    </tr>\n  </tbody>\n</table>\n</div>", 
                        "text/plain": "        Venue category  Frequency\n0    French Restaurant       0.30\n1               Bistro       0.11\n2                 Caf\u00e9       0.07\n3  Japanese Restaurant       0.07\n4             Creperie       0.07"
                    }, 
                    "metadata": {}
                }, 
                {
                    "output_type": "stream", 
                    "name": "stdout", 
                    "text": "----Archaeological Crypt of the Paris Notre-Dame----\n"
                }, 
                {
                    "output_type": "display_data", 
                    "data": {
                        "text/html": "<div>\n<style scoped>\n    .dataframe tbody tr th:only-of-type {\n        vertical-align: middle;\n    }\n\n    .dataframe tbody tr th {\n        vertical-align: top;\n    }\n\n    .dataframe thead th {\n        text-align: right;\n    }\n</style>\n<table border=\"1\" class=\"dataframe\">\n  <thead>\n    <tr style=\"text-align: right;\">\n      <th></th>\n      <th>Venue category</th>\n      <th>Frequency</th>\n    </tr>\n  </thead>\n  <tbody>\n    <tr>\n      <th>0</th>\n      <td>French Restaurant</td>\n      <td>0.40</td>\n    </tr>\n    <tr>\n      <th>1</th>\n      <td>Creperie</td>\n      <td>0.12</td>\n    </tr>\n    <tr>\n      <th>2</th>\n      <td>Bakery</td>\n      <td>0.08</td>\n    </tr>\n    <tr>\n      <th>3</th>\n      <td>Bistro</td>\n      <td>0.04</td>\n    </tr>\n    <tr>\n      <th>4</th>\n      <td>Japanese Restaurant</td>\n      <td>0.04</td>\n    </tr>\n  </tbody>\n</table>\n</div>", 
                        "text/plain": "        Venue category  Frequency\n0    French Restaurant       0.40\n1             Creperie       0.12\n2               Bakery       0.08\n3               Bistro       0.04\n4  Japanese Restaurant       0.04"
                    }, 
                    "metadata": {}
                }, 
                {
                    "output_type": "stream", 
                    "name": "stdout", 
                    "text": "----Biblioth\u00e8que Polonaise de Paris----\n"
                }, 
                {
                    "output_type": "display_data", 
                    "data": {
                        "text/html": "<div>\n<style scoped>\n    .dataframe tbody tr th:only-of-type {\n        vertical-align: middle;\n    }\n\n    .dataframe tbody tr th {\n        vertical-align: top;\n    }\n\n    .dataframe thead th {\n        text-align: right;\n    }\n</style>\n<table border=\"1\" class=\"dataframe\">\n  <thead>\n    <tr style=\"text-align: right;\">\n      <th></th>\n      <th>Venue category</th>\n      <th>Frequency</th>\n    </tr>\n  </thead>\n  <tbody>\n    <tr>\n      <th>0</th>\n      <td>French Restaurant</td>\n      <td>0.44</td>\n    </tr>\n    <tr>\n      <th>1</th>\n      <td>Wine Bar</td>\n      <td>0.07</td>\n    </tr>\n    <tr>\n      <th>2</th>\n      <td>Creperie</td>\n      <td>0.05</td>\n    </tr>\n    <tr>\n      <th>3</th>\n      <td>Japanese Restaurant</td>\n      <td>0.05</td>\n    </tr>\n    <tr>\n      <th>4</th>\n      <td>Bakery</td>\n      <td>0.05</td>\n    </tr>\n  </tbody>\n</table>\n</div>", 
                        "text/plain": "        Venue category  Frequency\n0    French Restaurant       0.44\n1             Wine Bar       0.07\n2             Creperie       0.05\n3  Japanese Restaurant       0.05\n4               Bakery       0.05"
                    }, 
                    "metadata": {}
                }, 
                {
                    "output_type": "stream", 
                    "name": "stdout", 
                    "text": "----Biblioth\u00e8que-Mus\u00e9e de l'Op\u00e9ra National de Paris----\n"
                }, 
                {
                    "output_type": "display_data", 
                    "data": {
                        "text/html": "<div>\n<style scoped>\n    .dataframe tbody tr th:only-of-type {\n        vertical-align: middle;\n    }\n\n    .dataframe tbody tr th {\n        vertical-align: top;\n    }\n\n    .dataframe thead th {\n        text-align: right;\n    }\n</style>\n<table border=\"1\" class=\"dataframe\">\n  <thead>\n    <tr style=\"text-align: right;\">\n      <th></th>\n      <th>Venue category</th>\n      <th>Frequency</th>\n    </tr>\n  </thead>\n  <tbody>\n    <tr>\n      <th>0</th>\n      <td>French Restaurant</td>\n      <td>0.37</td>\n    </tr>\n    <tr>\n      <th>1</th>\n      <td>Sandwich Place</td>\n      <td>0.11</td>\n    </tr>\n    <tr>\n      <th>2</th>\n      <td>Salad Place</td>\n      <td>0.07</td>\n    </tr>\n    <tr>\n      <th>3</th>\n      <td>Italian Restaurant</td>\n      <td>0.07</td>\n    </tr>\n    <tr>\n      <th>4</th>\n      <td>Regional French Restaurant</td>\n      <td>0.04</td>\n    </tr>\n  </tbody>\n</table>\n</div>", 
                        "text/plain": "               Venue category  Frequency\n0           French Restaurant       0.37\n1              Sandwich Place       0.11\n2                 Salad Place       0.07\n3          Italian Restaurant       0.07\n4  Regional French Restaurant       0.04"
                    }, 
                    "metadata": {}
                }, 
                {
                    "output_type": "stream", 
                    "name": "stdout", 
                    "text": "----Cabinet des M\u00e9dailles----\n"
                }, 
                {
                    "output_type": "display_data", 
                    "data": {
                        "text/html": "<div>\n<style scoped>\n    .dataframe tbody tr th:only-of-type {\n        vertical-align: middle;\n    }\n\n    .dataframe tbody tr th {\n        vertical-align: top;\n    }\n\n    .dataframe thead th {\n        text-align: right;\n    }\n</style>\n<table border=\"1\" class=\"dataframe\">\n  <thead>\n    <tr style=\"text-align: right;\">\n      <th></th>\n      <th>Venue category</th>\n      <th>Frequency</th>\n    </tr>\n  </thead>\n  <tbody>\n    <tr>\n      <th>0</th>\n      <td>Japanese Restaurant</td>\n      <td>0.23</td>\n    </tr>\n    <tr>\n      <th>1</th>\n      <td>French Restaurant</td>\n      <td>0.21</td>\n    </tr>\n    <tr>\n      <th>2</th>\n      <td>Bistro</td>\n      <td>0.09</td>\n    </tr>\n    <tr>\n      <th>3</th>\n      <td>Korean Restaurant</td>\n      <td>0.08</td>\n    </tr>\n    <tr>\n      <th>4</th>\n      <td>Italian Restaurant</td>\n      <td>0.08</td>\n    </tr>\n  </tbody>\n</table>\n</div>", 
                        "text/plain": "        Venue category  Frequency\n0  Japanese Restaurant       0.23\n1    French Restaurant       0.21\n2               Bistro       0.09\n3    Korean Restaurant       0.08\n4   Italian Restaurant       0.08"
                    }, 
                    "metadata": {}
                }
            ], 
            "source": "num_top_venues = 5\n\nfor mus in museum_grouped['Museum'][:5]:\n    print(\"----\"+mus+\"----\")\n    temp = museum_grouped[museum_grouped['Museum'] == mus].T.reset_index()\n    temp.columns = ['Venue category','Frequency']\n    temp = temp.iloc[1:]\n    temp['Frequency'] = temp['Frequency'].astype(float)\n    temp = temp.round({'Frequency': 2})\n    #print(temp.sort_values('freq', ascending=False).reset_index(drop=True).head(num_top_venues))\n    #print('\\n')\n    display(temp.sort_values('Frequency', ascending=False).reset_index(drop=True).head(num_top_venues))"
        }, 
        {
            "execution_count": 24, 
            "cell_type": "code", 
            "metadata": {}, 
            "outputs": [], 
            "source": "def return_most_common_venues(row, num_top_venues):\n    row_categories = row.iloc[1:]\n    row_categories_sorted = row_categories.sort_values(ascending=False)\n    \n    return row_categories_sorted.index.values[0:num_top_venues]"
        }, 
        {
            "source": "Here a possible issue is visible: for most museums, the most present type of venue is \"French restaurant\". Paris being Paris, this was to be expected, but it might skew the data. We will have to pay close attention to the clusters created by the k-means algorithm and verify that they are not disproportionately affected by this issue.", 
            "cell_type": "markdown", 
            "metadata": {}
        }, 
        {
            "source": "## Clustering", 
            "cell_type": "markdown", 
            "metadata": {}
        }, 
        {
            "execution_count": 25, 
            "cell_type": "code", 
            "metadata": {}, 
            "outputs": [], 
            "source": "import matplotlib.pyplot as plt"
        }, 
        {
            "execution_count": 26, 
            "cell_type": "code", 
            "metadata": {}, 
            "outputs": [], 
            "source": "# set number of clusters\n#kclusters = 4\n\nmuseum_grouped_clustering = museum_grouped.drop('Museum', 1)\nsse = {}\n# run k-means clustering\nfor k in range(1,20):\n    kmeans = KMeans(n_clusters=k, random_state=0).fit(museum_grouped_clustering)\n    sse[k] = kmeans.inertia_\n\n\n    "
        }, 
        {
            "execution_count": 27, 
            "cell_type": "code", 
            "metadata": {}, 
            "outputs": [
                {
                    "output_type": "display_data", 
                    "data": {
                        "image/png": "[encoded data removed]", 
                        "text/plain": "<matplotlib.figure.Figure at 0x7ff5a53e8f28>"
                    }, 
                    "metadata": {}
                }
            ], 
            "source": "plt.figure()\nplt.xlabel('Number of clusters')\nplt.ylabel('SSE (Sum of Squared Errors)')\nplt.plot(list(sse.keys()), list(sse.values()))\nplt.show()"
        }, 
        {
            "execution_count": null, 
            "cell_type": "code", 
            "metadata": {}, 
            "outputs": [], 
            "source": "# set number of clusters\nkclusters = 4\n\nmuseum_grouped_clustering = museum_grouped.drop('Museum', 1)\n\nkmeans = KMeans(n_clusters=kclusters, random_state=0).fit(museum_grouped_clustering)\n\n"
        }, 
        {
            "execution_count": null, 
            "cell_type": "code", 
            "metadata": {}, 
            "outputs": [], 
            "source": "num_top_venues = 5\n\nindicators = ['st', 'nd', 'rd']\n\n# create columns according to number of top venues\ncolumns = ['Museum']\nfor ind in np.arange(num_top_venues):\n    try:\n        columns.append('{}{} Most Common Venue'.format(ind+1, indicators[ind]))\n    except:\n        columns.append('{}th Most Common Venue'.format(ind+1))\n\n# create a new dataframe\nmuseum_venues_sorted = pd.DataFrame(columns=columns)\nmuseum_venues_sorted['Museum'] = museum_grouped['Museum']\n\nfor ind in np.arange(museum_grouped.shape[0]):\n    museum_venues_sorted.iloc[ind, 1:] = return_most_common_venues(museum_grouped.iloc[ind, :], num_top_venues)\n\nmuseum_venues_sorted.head(10)"
        }, 
        {
            "execution_count": null, 
            "cell_type": "code", 
            "metadata": {}, 
            "outputs": [], 
            "source": "# add clustering labels\nmuseum_venues_sorted.insert(0, 'Cluster Labels', kmeans.labels_)\n\nmuseum_merged = df\n\n# merge toronto_grouped with toronto_data to add latitude/longitude for each neighborhood\nmuseum_merged = museum_merged.join(museum_venues_sorted.set_index('Museum'), on='Museum name')\n\nmuseum_merged.dropna(inplace=True)# check the last columns!\nmuseum_merged.head()"
        }, 
        {
            "execution_count": null, 
            "cell_type": "code", 
            "metadata": {}, 
            "outputs": [], 
            "source": "num_top_venues = 5\n\ndef return_most_venues_per_cluster(cluster_value):\n    for mus in museum_grouped['Museum']:\n        if str(museum_merged[museum_merged['Museum name'] == mus]['Cluster Labels'].get_values()[0]) == str(cluster_value):\n            print(\"----\"+mus+\"----\")\n            temp = museum_grouped[museum_grouped['Museum'] == mus].T.reset_index()\n            temp.columns = ['Venue category','Frequency']\n            temp = temp.iloc[1:]\n            temp['Frequency'] = temp['Frequency'].astype(float)\n            temp = temp.round({'Frequency': 2})\n            #print(temp.sort_values('freq', ascending=False).reset_index(drop=True).head(num_top_venues))\n            #print('\\n')\n            display(temp.sort_values('Frequency', ascending=False).reset_index(drop=True).head(num_top_venues))"
        }, 
        {
            "source": "### This cluster no 0 contains French Restaurants around 25%, and a lot of Italian (10-20%) and Japanese (around 10%). Let's label it \"French/Italian/Japanese\".", 
            "cell_type": "markdown", 
            "metadata": {}
        }, 
        {
            "execution_count": null, 
            "cell_type": "code", 
            "metadata": {}, 
            "outputs": [], 
            "source": "return_most_venues_per_cluster(0.0)"
        }, 
        {
            "source": "### This cluster no 1 contains mostly French Restaurants (around 50%), and a lot of Caf\u00e9s and Bistros. Let's label it \"Traditional French\".", 
            "cell_type": "markdown", 
            "metadata": {}
        }, 
        {
            "execution_count": null, 
            "cell_type": "code", 
            "metadata": {}, 
            "outputs": [], 
            "source": "return_most_venues_per_cluster(1.0)"
        }, 
        {
            "source": "### This cluster no 2 is much more diverse than the others, with more restaurants from Asia or the rest of the World. Let's label it \"Cosmopolitan\".", 
            "cell_type": "markdown", 
            "metadata": {}
        }, 
        {
            "execution_count": null, 
            "cell_type": "code", 
            "metadata": {}, 
            "outputs": [], 
            "source": "return_most_venues_per_cluster(2.0)"
        }, 
        {
            "source": "### This cluster no 3 contains around 30% of French Restaurants, and Bakeries are coming up more often than in other clustrs. Let's label it \"Baguette zone\".", 
            "cell_type": "markdown", 
            "metadata": {}
        }, 
        {
            "execution_count": null, 
            "cell_type": "code", 
            "metadata": {}, 
            "outputs": [], 
            "source": "return_most_venues_per_cluster(3.0)"
        }, 
        {
            "execution_count": null, 
            "cell_type": "code", 
            "metadata": {}, 
            "outputs": [], 
            "source": "# create map\nmap_clusters = folium.Map(location=[lat_paris, long_paris], zoom_start=12)\n\n# set color scheme for the clusters\nx = np.arange(kclusters)\nys = [i + x + (i*x)**2 for i in range(kclusters)]\ncolors_array = cm.rainbow(np.linspace(0, 1, len(ys)))\n#rainbow = [colors.rgb2hex(i) for i in colors_array]\nrainbow = ['blue', 'red', 'black', 'orange', 'yellow']\nlabels = [ 'French/Italian/Japanese', 'Traditional French','Cosmopolitan', 'Baguette zone']\n\n# add markers to the map\nmarkers_colors = []\nfor lat, lon, poi, cluster in zip(museum_merged['Latitude'], museum_merged['Longitude'], museum_merged['Museum name'], museum_merged['Cluster Labels']):\n    label = folium.Popup(str(poi) + ' -- Type of food : ' + labels[int(cluster)], parse_html=True)\n    #label = folium.Popup(str(poi) + ' -- Type of food : ' + str(cluster), parse_html=True)\n    folium.CircleMarker(\n        [lat, lon],\n        radius=5,\n        popup=label,\n        color=rainbow[int(cluster-1)],\n        fill=True,\n        fill_color=rainbow[int(cluster-1)],\n        fill_opacity=0.7).add_to(map_clusters)\n       \nmap_clusters"
        }, 
        {
            "source": "If we inspect the different clusters on this map, we can recognize some Parisian neighbourhoods, which corroborates the classification obtained by the k-means algorithm.\n\nFor instance:\n  1. The \"Traditional French\" zone is mostly around the Eiffel Tower, the Louvre and the Orsay Museum. These high-end areas feature more traditional French restaurants. \n  2. The \"Baguette zone\" corresponds to popular zones such as the student neighbourhood of Paris-Dauphine and the Pigalle-Montmartre neighbourhood. An increased presence of bakeries and cheap restauration options in popular areas seems plausible.\n  3. The \"Cosmopolitan\" area can especially be found in the Marais which is a gentrified, diverse neighbourhood. In this area, restaurants from all over the world are more readily found.\n  4. The \"French/Italian/Japanese\" zone can mostly be found in the periphery of Paris and in the neighbourhood of Saint-Germain-des-Pr\u00e9s. These are areas which have included Italian (pizzas) and Japanese (sushis) cuisine into their main preferences.", 
            "cell_type": "markdown", 
            "metadata": {}
        }, 
        {
            "execution_count": null, 
            "cell_type": "code", 
            "metadata": {}, 
            "outputs": [], 
            "source": ""
        }
    ], 
    "metadata": {
        "kernelspec": {
            "display_name": "Python 3.5", 
            "name": "python3", 
            "language": "python"
        }, 
        "language_info": {
            "mimetype": "text/x-python", 
            "nbconvert_exporter": "python", 
            "version": "3.5.5", 
            "name": "python", 
            "file_extension": ".py", 
            "pygments_lexer": "ipython3", 
            "codemirror_mode": {
                "version": 3, 
                "name": "ipython"
            }
        }
    }, 
    "nbformat": 4
}