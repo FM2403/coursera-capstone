{
    "nbformat_minor": 1, 
    "cells": [
        {
            "source": "# A Sunday morning in Paris\n## Author: F. Muller", 
            "cell_type": "markdown", 
            "metadata": {
                "collapsed": true
            }
        }, 
        {
            "source": "### Introduction: the business problem", 
            "cell_type": "markdown", 
            "metadata": {}
        }, 
        {
            "source": "Paris is a city with an amazing choice of museums to visit, more than a hundred. I visited myself quite a number of them, and I noticed a recurring fact along my visits: museums make people hungry. After a few hours of admiring paintings or sculptures during a cultural Sunday morning, the urge for a snack or a nice lunch can get strong.", 
            "cell_type": "markdown", 
            "metadata": {}
        }, 
        {
            "source": "Fortunately, Paris also hosts thousands of restaurants, caf\u00e9s and the like, from cuisines all over the world! The combination museum plus lunch is therefore very easy to arrange. ", 
            "cell_type": "markdown", 
            "metadata": {}
        }, 
        {
            "source": "Now, say you are a travel agency operating in Paris, and you want to offer short packages combining the visit of a museum and lunch at a restaurant. For the sake of the exercise, I will assume here that the design of such packages will be independent from the museums and will be entirely based on the lunch options available nearby a museum.", 
            "cell_type": "markdown", 
            "metadata": {}
        }, 
        {
            "source": "You would need to identify which museums are nearby interesting combinations of lunch options in order to offer them as relevant packages to clients. Among many possibilities, museums could for instance be classified between high-end, medium or affordable restoration options.", 
            "cell_type": "markdown", 
            "metadata": {}
        }, 
        {
            "source": "The goal of this project is thus the following: can we classify the museums in Paris based on their neighbouring restaurants options by leveraging data science and machine learning?", 
            "cell_type": "markdown", 
            "metadata": {}
        }, 
        {
            "source": "", 
            "cell_type": "code", 
            "metadata": {}, 
            "outputs": [], 
            "execution_count": null
        }
    ], 
    "metadata": {
        "kernelspec": {
            "display_name": "Python 3.5", 
            "name": "python3", 
            "language": "python"
        }, 
        "language_info": {
            "mimetype": "text/x-python", 
            "nbconvert_exporter": "python", 
            "version": "3.5.5", 
            "name": "python", 
            "file_extension": ".py", 
            "pygments_lexer": "ipython3", 
            "codemirror_mode": {
                "version": 3, 
                "name": "ipython"
            }
        }
    }, 
    "nbformat": 4
}