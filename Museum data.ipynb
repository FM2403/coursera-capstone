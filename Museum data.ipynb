{
    "nbformat_minor": 1, 
    "cells": [
        {
            "source": "# A Sunday morning in Paris\n## Author: F. Muller", 
            "cell_type": "markdown", 
            "metadata": {
                "collapsed": true
            }
        }, 
        {
            "source": "### Data", 
            "cell_type": "markdown", 
            "metadata": {}
        }, 
        {
            "source": "Since the problematic of this little project is not too distant from that of the classification of Toronto neighbourhoods, the data required and the general methodology followed will not be very different either.", 
            "cell_type": "markdown", 
            "metadata": {}
        }, 
        {
            "source": "The final product will be a classification of the museums in Paris into clusters based on their nearby restaurants, using unsupervised machine learning. The source data for this machine learning algorithm will be information about the restaurants nearby each museum, obtained through the Foursquare API. Hopefully enough restaurants exist near most museums, but some museums may have to be skipped if they have not enough venues nearby.", 
            "cell_type": "markdown", 
            "metadata": {}
        }, 
        {
            "source": "In order to use the Foursquare API, a database of museums containg their geolocalization must first be created. This database will be the result of a web scraping operation, more precisely from Wikipedia pages. Maps will also be created in order to visualize the distribution of museums in Paris, especially after their clustering by the k-means algorithm.", 
            "cell_type": "markdown", 
            "metadata": {}
        }, 
        {
            "source": "A list of the museums in Paris is available at the page https://en.wikipedia.org/wiki/List_of_museums_in_Paris. This list will be transferred into a pandas DataFrame. For each museum in the list, a link to its specific Wikipedia page is available. The French version of each museum page contains its latitude and longitude, which will allow to create the database required for the Foursqure API usage.", 
            "cell_type": "markdown", 
            "metadata": {}
        }
    ], 
    "metadata": {
        "kernelspec": {
            "display_name": "Python 3.5", 
            "name": "python3", 
            "language": "python"
        }, 
        "language_info": {
            "mimetype": "text/x-python", 
            "nbconvert_exporter": "python", 
            "version": "3.5.5", 
            "name": "python", 
            "pygments_lexer": "ipython3", 
            "file_extension": ".py", 
            "codemirror_mode": {
                "version": 3, 
                "name": "ipython"
            }
        }
    }, 
    "nbformat": 4
}